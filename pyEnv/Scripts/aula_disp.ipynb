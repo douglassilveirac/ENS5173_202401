{
 "cells": [
  {
   "cell_type": "markdown",
   "id": "2b03cac7-9dde-47e0-ba65-ec1db6373c0e",
   "metadata": {},
   "source": [
    "# MODELAGEM DE DISPERSÃO\n",
    "Neste notebook vamos implementar um modelo de sipersão gaussiano"
   ]
  },
  {
   "cell_type": "code",
   "execution_count": 4,
   "id": "8a26d044-67d5-4758-b7a8-a1a5070bd1f2",
   "metadata": {},
   "outputs": [],
   "source": [
    "# Criando uma função do modelo gaussiano\n",
    "import numpy as np\n",
    "def modeloGaussiano(qs,sigmaY,sigmaZ,u,y,z,H):\n",
    "    termo1 = qs/(2*np.pi*sigmaY*sigmaZ*u)\n",
    "    termo2 = np.exp((-y**2)/(2*sigmaY**2))\n",
    "    termo3 = np.exp((-(z-H)**2)/(2*sigmaY**2)) + np.exp((-(z+H)**2)/(2*sigmaZ**2))\n",
    "    conc = termo1*termo2*termo3\n",
    "    conc = conc*10**6\n",
    "    return conc"
   ]
  },
  {
   "cell_type": "code",
   "execution_count": 5,
   "id": "3084753c-9c2d-493c-8a1e-4be13abce29a",
   "metadata": {},
   "outputs": [
    {
     "name": "stdout",
     "output_type": "stream",
     "text": [
      "A concentração estimada é = 29.327356111942926 ug/m³\n"
     ]
    }
   ],
   "source": [
    "# Utilizando a função do modelo gaussiano\n",
    "qs = 100 # g/s\n",
    "sigmaY = 10 # m\n",
    "sigmaZ = 15 # m\n",
    "u = 10 # m/s\n",
    "y = 0 # estimando na direção do vento\n",
    "z = 1.5 # altura do nariz\n",
    "H = 50 # H m\n",
    "conc = modeloGaussiano(qs,sigmaY,sigmaZ,u,y,z,H)\n",
    "\n",
    "print(\"A concentração estimada é = \" +str(conc) + ' ug/m³')"
   ]
  },
  {
   "cell_type": "code",
   "execution_count": null,
   "id": "a5b56892-08f1-4a93-89de-22ff7d8f4866",
   "metadata": {},
   "outputs": [],
   "source": []
  }
 ],
 "metadata": {
  "kernelspec": {
   "display_name": "Python 3 (ipykernel)",
   "language": "python",
   "name": "python3"
  },
  "language_info": {
   "codemirror_mode": {
    "name": "ipython",
    "version": 3
   },
   "file_extension": ".py",
   "mimetype": "text/x-python",
   "name": "python",
   "nbconvert_exporter": "python",
   "pygments_lexer": "ipython3",
   "version": "3.11.8"
  }
 },
 "nbformat": 4,
 "nbformat_minor": 5
}
