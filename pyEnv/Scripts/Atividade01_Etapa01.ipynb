{
 "cells": [
  {
   "cell_type": "code",
   "execution_count": 4,
   "id": "2a42b216-b5cf-4c0b-b28b-fbb4cef0bee2",
   "metadata": {},
   "outputs": [],
   "source": [
    "# Dados Numéricos"
   ]
  },
  {
   "cell_type": "code",
   "execution_count": 5,
   "id": "314f0c1d-b91c-4c65-9518-b4e63626bc7e",
   "metadata": {},
   "outputs": [
    {
     "name": "stdout",
     "output_type": "stream",
     "text": [
      "Valor de a = 1\n"
     ]
    },
    {
     "data": {
      "text/plain": [
       "int"
      ]
     },
     "execution_count": 5,
     "metadata": {},
     "output_type": "execute_result"
    }
   ],
   "source": [
    "# Variável inteira\n",
    "a = 1\n",
    "print('Valor de a = '+str(a))\n",
    "type(a)"
   ]
  },
  {
   "cell_type": "code",
   "execution_count": 6,
   "id": "0cf815cb-adb8-4b1c-974e-f28f460aabca",
   "metadata": {},
   "outputs": [
    {
     "name": "stdout",
     "output_type": "stream",
     "text": [
      "1.0\n"
     ]
    },
    {
     "data": {
      "text/plain": [
       "float"
      ]
     },
     "execution_count": 6,
     "metadata": {},
     "output_type": "execute_result"
    }
   ],
   "source": [
    "# Variável dupla precisão\n",
    "b = 1.0\n",
    "print(b)\n",
    "type(b)"
   ]
  },
  {
   "cell_type": "code",
   "execution_count": 7,
   "id": "c2ead2fa-cc1e-4304-ae65-365564947f2c",
   "metadata": {},
   "outputs": [
    {
     "name": "stdout",
     "output_type": "stream",
     "text": [
      "1\n"
     ]
    },
    {
     "data": {
      "text/plain": [
       "int"
      ]
     },
     "execution_count": 7,
     "metadata": {},
     "output_type": "execute_result"
    }
   ],
   "source": [
    "# Converter float para int\n",
    "c = int(b)\n",
    "print(c)\n",
    "type(c)"
   ]
  },
  {
   "cell_type": "code",
   "execution_count": 8,
   "id": "935b59f7-6172-43e3-8956-c13c46a2d48f",
   "metadata": {},
   "outputs": [
    {
     "name": "stdout",
     "output_type": "stream",
     "text": [
      "nan\n"
     ]
    },
    {
     "data": {
      "text/plain": [
       "float"
      ]
     },
     "execution_count": 8,
     "metadata": {},
     "output_type": "execute_result"
    }
   ],
   "source": [
    "# Delacrando nan\n",
    "import numpy as np\n",
    "d = np.nan\n",
    "print(d)\n",
    "type(d)"
   ]
  },
  {
   "cell_type": "code",
   "execution_count": 9,
   "id": "e696ddad-ebbc-4a9d-8f44-0b72166b11de",
   "metadata": {},
   "outputs": [
    {
     "name": "stdout",
     "output_type": "stream",
     "text": [
      "nan\n",
      "nan\n",
      "1.0\n"
     ]
    }
   ],
   "source": [
    "# Operação com NaN\n",
    "e = d*1\n",
    "print(e)\n",
    "e = d+1\n",
    "print(e)\n",
    "e = np.nansum([d,1])\n",
    "print(e)"
   ]
  },
  {
   "cell_type": "code",
   "execution_count": 10,
   "id": "ce296e4b-7038-45ea-9318-c801b509a8bb",
   "metadata": {},
   "outputs": [],
   "source": [
    "# Dados de Texto"
   ]
  },
  {
   "cell_type": "code",
   "execution_count": 11,
   "id": "79d582e7-4f63-40e2-9680-f1ae4b951113",
   "metadata": {},
   "outputs": [
    {
     "name": "stdout",
     "output_type": "stream",
     "text": [
      "Fábio\n",
      "Gabriel\n",
      "FábioGabriel\n",
      "Fábio Gabriel\n"
     ]
    }
   ],
   "source": [
    "# Declaração de variável texto\n",
    "f = 'Fábio'\n",
    "g = \"Gabriel\"\n",
    "print(f)\n",
    "print(g)\n",
    "print(f+g)\n",
    "print(f+' '+g)"
   ]
  },
  {
   "cell_type": "code",
   "execution_count": null,
   "id": "cb146150-41fb-4248-8b4e-5ff28b8f319d",
   "metadata": {},
   "outputs": [],
   "source": [
    "# Dados tipo bool - lógica"
   ]
  }
 ],
 "metadata": {
  "kernelspec": {
   "display_name": "Python 3 (ipykernel)",
   "language": "python",
   "name": "python3"
  },
  "language_info": {
   "codemirror_mode": {
    "name": "ipython",
    "version": 3
   },
   "file_extension": ".py",
   "mimetype": "text/x-python",
   "name": "python",
   "nbconvert_exporter": "python",
   "pygments_lexer": "ipython3",
   "version": "3.11.8"
  }
 },
 "nbformat": 4,
 "nbformat_minor": 5
}
