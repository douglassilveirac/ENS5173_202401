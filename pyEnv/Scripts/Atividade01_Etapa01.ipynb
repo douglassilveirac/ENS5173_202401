{
 "cells": [
  {
   "cell_type": "markdown",
   "id": "2fb473a6-4db2-429c-860c-34e583a925e4",
   "metadata": {},
   "source": [
    "# Dados Numéricos"
   ]
  },
  {
   "cell_type": "code",
   "execution_count": 5,
   "id": "314f0c1d-b91c-4c65-9518-b4e63626bc7e",
   "metadata": {},
   "outputs": [
    {
     "name": "stdout",
     "output_type": "stream",
     "text": [
      "Valor de a = 1\n"
     ]
    },
    {
     "data": {
      "text/plain": [
       "int"
      ]
     },
     "execution_count": 5,
     "metadata": {},
     "output_type": "execute_result"
    }
   ],
   "source": [
    "# Variável inteira\n",
    "a = 1\n",
    "print('Valor de a = '+str(a))\n",
    "type(a)"
   ]
  },
  {
   "cell_type": "code",
   "execution_count": 6,
   "id": "0cf815cb-adb8-4b1c-974e-f28f460aabca",
   "metadata": {},
   "outputs": [
    {
     "name": "stdout",
     "output_type": "stream",
     "text": [
      "1.0\n"
     ]
    },
    {
     "data": {
      "text/plain": [
       "float"
      ]
     },
     "execution_count": 6,
     "metadata": {},
     "output_type": "execute_result"
    }
   ],
   "source": [
    "# Variável dupla precisão\n",
    "b = 1.0\n",
    "print(b)\n",
    "type(b)"
   ]
  },
  {
   "cell_type": "code",
   "execution_count": 7,
   "id": "c2ead2fa-cc1e-4304-ae65-365564947f2c",
   "metadata": {},
   "outputs": [
    {
     "name": "stdout",
     "output_type": "stream",
     "text": [
      "1\n"
     ]
    },
    {
     "data": {
      "text/plain": [
       "int"
      ]
     },
     "execution_count": 7,
     "metadata": {},
     "output_type": "execute_result"
    }
   ],
   "source": [
    "# Converter float para int\n",
    "c = int(b)\n",
    "print(c)\n",
    "type(c)"
   ]
  },
  {
   "cell_type": "code",
   "execution_count": 8,
   "id": "935b59f7-6172-43e3-8956-c13c46a2d48f",
   "metadata": {},
   "outputs": [
    {
     "name": "stdout",
     "output_type": "stream",
     "text": [
      "nan\n"
     ]
    },
    {
     "data": {
      "text/plain": [
       "float"
      ]
     },
     "execution_count": 8,
     "metadata": {},
     "output_type": "execute_result"
    }
   ],
   "source": [
    "# Delacrando nan\n",
    "import numpy as np\n",
    "d = np.nan\n",
    "print(d)\n",
    "type(d)"
   ]
  },
  {
   "cell_type": "code",
   "execution_count": 9,
   "id": "e696ddad-ebbc-4a9d-8f44-0b72166b11de",
   "metadata": {},
   "outputs": [
    {
     "name": "stdout",
     "output_type": "stream",
     "text": [
      "nan\n",
      "nan\n",
      "1.0\n"
     ]
    }
   ],
   "source": [
    "# Operação com NaN\n",
    "e = d*1\n",
    "print(e)\n",
    "e = d+1\n",
    "print(e)\n",
    "e = np.nansum([d,1])\n",
    "print(e)"
   ]
  },
  {
   "cell_type": "markdown",
   "id": "83a198cc-3b74-4e19-ac67-02200317e207",
   "metadata": {},
   "source": [
    "# Dados de Texto"
   ]
  },
  {
   "cell_type": "code",
   "execution_count": 11,
   "id": "79d582e7-4f63-40e2-9680-f1ae4b951113",
   "metadata": {},
   "outputs": [
    {
     "name": "stdout",
     "output_type": "stream",
     "text": [
      "Fábio\n",
      "Gabriel\n",
      "FábioGabriel\n",
      "Fábio Gabriel\n"
     ]
    }
   ],
   "source": [
    "# Declaração de variável texto\n",
    "f = 'Fábio'\n",
    "g = \"Gabriel\"\n",
    "print(f)\n",
    "print(g)\n",
    "print(f+g)\n",
    "print(f+' '+g)"
   ]
  },
  {
   "cell_type": "markdown",
   "id": "04258148-accc-4442-aaa3-e9fbffe568ff",
   "metadata": {},
   "source": [
    "# Dados tipo bool - lógica"
   ]
  },
  {
   "cell_type": "code",
   "execution_count": 12,
   "id": "7a16f799-022d-470e-baac-b45141a2ac48",
   "metadata": {},
   "outputs": [
    {
     "data": {
      "text/plain": [
       "True"
      ]
     },
     "execution_count": 12,
     "metadata": {},
     "output_type": "execute_result"
    }
   ],
   "source": [
    "a == 1"
   ]
  },
  {
   "cell_type": "code",
   "execution_count": 13,
   "id": "60f85424-da42-4c7a-b07a-0b1b99d465bd",
   "metadata": {},
   "outputs": [
    {
     "name": "stdout",
     "output_type": "stream",
     "text": [
      "True\n"
     ]
    },
    {
     "data": {
      "text/plain": [
       "bool"
      ]
     },
     "execution_count": 13,
     "metadata": {},
     "output_type": "execute_result"
    }
   ],
   "source": [
    "h = (a==1)\n",
    "print(h)\n",
    "type(h)"
   ]
  },
  {
   "cell_type": "code",
   "execution_count": 14,
   "id": "0c94eb7d-5c8b-4aea-b931-466f54371650",
   "metadata": {},
   "outputs": [
    {
     "name": "stdout",
     "output_type": "stream",
     "text": [
      "False\n"
     ]
    },
    {
     "data": {
      "text/plain": [
       "bool"
      ]
     },
     "execution_count": 14,
     "metadata": {},
     "output_type": "execute_result"
    }
   ],
   "source": [
    "h = (a==2)\n",
    "print(h)\n",
    "type(h)"
   ]
  },
  {
   "cell_type": "code",
   "execution_count": 15,
   "id": "fed22301-d110-4d3a-9e0c-5ca685e479f8",
   "metadata": {},
   "outputs": [
    {
     "data": {
      "text/plain": [
       "bool"
      ]
     },
     "execution_count": 15,
     "metadata": {},
     "output_type": "execute_result"
    }
   ],
   "source": [
    "i = True\n",
    "type(i)"
   ]
  },
  {
   "cell_type": "code",
   "execution_count": 16,
   "id": "0842ad03-182f-4039-831b-5108d6047db0",
   "metadata": {},
   "outputs": [
    {
     "data": {
      "text/plain": [
       "str"
      ]
     },
     "execution_count": 16,
     "metadata": {},
     "output_type": "execute_result"
    }
   ],
   "source": [
    "ii = 'True'\n",
    "type(ii)"
   ]
  },
  {
   "cell_type": "markdown",
   "id": "4baff1d2-8cdb-48ca-a762-a406fda75a7d",
   "metadata": {},
   "source": [
    "# Operação de comparação"
   ]
  },
  {
   "cell_type": "code",
   "execution_count": 17,
   "id": "6075ea76-5193-4a51-8d1f-9e316889f5d0",
   "metadata": {},
   "outputs": [
    {
     "data": {
      "text/plain": [
       "True"
      ]
     },
     "execution_count": 17,
     "metadata": {},
     "output_type": "execute_result"
    }
   ],
   "source": [
    "# Operação ==\n",
    "a==b"
   ]
  },
  {
   "cell_type": "code",
   "execution_count": 18,
   "id": "a96c541d-4ab0-489e-a654-d3e3af047340",
   "metadata": {},
   "outputs": [
    {
     "data": {
      "text/plain": [
       "False"
      ]
     },
     "execution_count": 18,
     "metadata": {},
     "output_type": "execute_result"
    }
   ],
   "source": [
    "# Operação ><\n",
    "a>b"
   ]
  },
  {
   "cell_type": "code",
   "execution_count": 19,
   "id": "59027454-0d27-4a6b-8b56-e404d367801a",
   "metadata": {},
   "outputs": [
    {
     "data": {
      "text/plain": [
       "False"
      ]
     },
     "execution_count": 19,
     "metadata": {},
     "output_type": "execute_result"
    }
   ],
   "source": [
    "# Operação !=\n",
    "a!=b"
   ]
  },
  {
   "cell_type": "code",
   "execution_count": 20,
   "id": "3238c0e2-8859-4e7a-85db-49dbb5835818",
   "metadata": {},
   "outputs": [
    {
     "data": {
      "text/plain": [
       "True"
      ]
     },
     "execution_count": 20,
     "metadata": {},
     "output_type": "execute_result"
    }
   ],
   "source": [
    "# Operação >= ou <=\n",
    "a>=b"
   ]
  },
  {
   "cell_type": "markdown",
   "id": "e75f4ec5-01e4-43b3-8498-40b4e24570af",
   "metadata": {},
   "source": [
    "# Operações matemáticas"
   ]
  },
  {
   "cell_type": "code",
   "execution_count": 21,
   "id": "84c99dfe-344f-479b-b34a-41d9c76f48b8",
   "metadata": {},
   "outputs": [
    {
     "data": {
      "text/plain": [
       "2.0"
      ]
     },
     "execution_count": 21,
     "metadata": {},
     "output_type": "execute_result"
    }
   ],
   "source": [
    "# Soma \n",
    "a+b"
   ]
  },
  {
   "cell_type": "code",
   "execution_count": 22,
   "id": "486f0aaf-d460-4013-8162-2fcb608e2302",
   "metadata": {},
   "outputs": [
    {
     "name": "stdout",
     "output_type": "stream",
     "text": [
      "2.0\n"
     ]
    }
   ],
   "source": [
    "# Soma e atribui valor\n",
    "ab = a+b\n",
    "print(ab)"
   ]
  },
  {
   "cell_type": "code",
   "execution_count": 23,
   "id": "7fe7d003-4455-41ef-be8c-23f985cde1a6",
   "metadata": {},
   "outputs": [
    {
     "name": "stdout",
     "output_type": "stream",
     "text": [
      "Não use l como nome de variável\n",
      "1.0\n"
     ]
    }
   ],
   "source": [
    "# Multiplicação\n",
    "l = a*b # Não use l como variável\n",
    "print(\"Não use l como nome de variável\")\n",
    "j = a*b\n",
    "print(j)"
   ]
  },
  {
   "cell_type": "code",
   "execution_count": 24,
   "id": "b8dc089b-4c45-4f09-82e7-b9af9635f98f",
   "metadata": {},
   "outputs": [
    {
     "data": {
      "text/plain": [
       "1.0"
      ]
     },
     "execution_count": 24,
     "metadata": {},
     "output_type": "execute_result"
    }
   ],
   "source": [
    "# Divisão\n",
    "a/b"
   ]
  },
  {
   "cell_type": "code",
   "execution_count": 25,
   "id": "2c3ac15e-8a82-4e55-a711-d8b74130cbc7",
   "metadata": {},
   "outputs": [
    {
     "data": {
      "text/plain": [
       "25"
      ]
     },
     "execution_count": 25,
     "metadata": {},
     "output_type": "execute_result"
    }
   ],
   "source": [
    "# Potencia\n",
    "5**2"
   ]
  },
  {
   "cell_type": "code",
   "execution_count": 26,
   "id": "2299d267-56ef-47be-85ac-ec7dd4d7761e",
   "metadata": {},
   "outputs": [
    {
     "data": {
      "text/plain": [
       "22026.465794806718"
      ]
     },
     "execution_count": 26,
     "metadata": {},
     "output_type": "execute_result"
    }
   ],
   "source": [
    "# Operações matemáticas com a bibliotéca math\n",
    "import math\n",
    "\n",
    "math.exp(10)"
   ]
  },
  {
   "cell_type": "code",
   "execution_count": 27,
   "id": "175c6d61-d584-4f9f-a360-9b10b23c4453",
   "metadata": {},
   "outputs": [
    {
     "data": {
      "text/plain": [
       "1.0"
      ]
     },
     "execution_count": 27,
     "metadata": {},
     "output_type": "execute_result"
    }
   ],
   "source": [
    "math.exp(0)"
   ]
  },
  {
   "cell_type": "code",
   "execution_count": 28,
   "id": "3b55e362-0a34-42ac-be5d-ec2f83e41bc2",
   "metadata": {},
   "outputs": [
    {
     "data": {
      "text/plain": [
       "2.718281828459045"
      ]
     },
     "execution_count": 28,
     "metadata": {},
     "output_type": "execute_result"
    }
   ],
   "source": [
    "math.exp(a)"
   ]
  },
  {
   "cell_type": "code",
   "execution_count": 29,
   "id": "2d61fb4d-381c-45f4-846e-9372ac575a26",
   "metadata": {},
   "outputs": [
    {
     "data": {
      "text/plain": [
       "4.5399929762484854e-05"
      ]
     },
     "execution_count": 29,
     "metadata": {},
     "output_type": "execute_result"
    }
   ],
   "source": [
    "math.exp(-10)"
   ]
  },
  {
   "cell_type": "code",
   "execution_count": 30,
   "id": "96092457-22e7-4adc-892c-9067d99d9628",
   "metadata": {},
   "outputs": [
    {
     "data": {
      "text/plain": [
       "0.0"
      ]
     },
     "execution_count": 30,
     "metadata": {},
     "output_type": "execute_result"
    }
   ],
   "source": [
    "import math as mt\n",
    "mt.log(c)"
   ]
  },
  {
   "cell_type": "code",
   "execution_count": 31,
   "id": "f80cd05f-5501-460f-a9f3-746b0e419b1e",
   "metadata": {},
   "outputs": [
    {
     "data": {
      "text/plain": [
       "2.0"
      ]
     },
     "execution_count": 31,
     "metadata": {},
     "output_type": "execute_result"
    }
   ],
   "source": [
    "mt.log10(100)"
   ]
  },
  {
   "cell_type": "markdown",
   "id": "84e2a582-0e3b-45bf-8eb1-a79e39d8b786",
   "metadata": {},
   "source": [
    "# Listas"
   ]
  },
  {
   "cell_type": "code",
   "execution_count": 32,
   "id": "2461db05-3ee0-4427-b507-1bf6d7fbbc7e",
   "metadata": {},
   "outputs": [
    {
     "name": "stdout",
     "output_type": "stream",
     "text": [
      "[1, 2, 3]\n"
     ]
    }
   ],
   "source": [
    "myFirstList = [1,2,3]\n",
    "print(myFirstList)"
   ]
  },
  {
   "cell_type": "code",
   "execution_count": 33,
   "id": "9cb27be5-828c-45d0-83e7-82eaac13e3ec",
   "metadata": {},
   "outputs": [
    {
     "name": "stdout",
     "output_type": "stream",
     "text": [
      "1\n",
      "3\n"
     ]
    }
   ],
   "source": [
    "# Acessando valores da lista pelo index\n",
    "print(myFirstList[0])\n",
    "print(myFirstList[2])"
   ]
  },
  {
   "cell_type": "code",
   "execution_count": 34,
   "id": "d01a19dc-57f6-40bc-8c47-034fd153d393",
   "metadata": {},
   "outputs": [
    {
     "data": {
      "text/plain": [
       "False"
      ]
     },
     "execution_count": 34,
     "metadata": {},
     "output_type": "execute_result"
    }
   ],
   "source": [
    "myFirstList==a"
   ]
  },
  {
   "cell_type": "code",
   "execution_count": 35,
   "id": "e85ed355-9957-4d2b-bd68-4e2181f67ebf",
   "metadata": {},
   "outputs": [
    {
     "data": {
      "text/plain": [
       "True"
      ]
     },
     "execution_count": 35,
     "metadata": {},
     "output_type": "execute_result"
    }
   ],
   "source": [
    "myFirstList[0]==a"
   ]
  },
  {
   "cell_type": "code",
   "execution_count": 36,
   "id": "92187cdf-a19d-458c-a532-3bfe0110a737",
   "metadata": {},
   "outputs": [
    {
     "name": "stdout",
     "output_type": "stream",
     "text": [
      "[1, 1, 'c']\n"
     ]
    }
   ],
   "source": [
    "mySecList = [1,a,'c']\n",
    "print(mySecList)"
   ]
  },
  {
   "cell_type": "code",
   "execution_count": 37,
   "id": "fb60995a-128f-45f1-a7e4-0df1e2a16b9a",
   "metadata": {},
   "outputs": [
    {
     "data": {
      "text/plain": [
       "list"
      ]
     },
     "execution_count": 37,
     "metadata": {},
     "output_type": "execute_result"
    }
   ],
   "source": [
    "type(mySecList)"
   ]
  },
  {
   "cell_type": "code",
   "execution_count": 38,
   "id": "9962ffb1-b37c-45fd-8bcf-c40cc964f1a3",
   "metadata": {},
   "outputs": [
    {
     "data": {
      "text/plain": [
       "str"
      ]
     },
     "execution_count": 38,
     "metadata": {},
     "output_type": "execute_result"
    }
   ],
   "source": [
    "type(mySecList[2])"
   ]
  },
  {
   "cell_type": "code",
   "execution_count": 39,
   "id": "5f2b7fb9-5d01-4f9f-a766-d1c187ee37e5",
   "metadata": {},
   "outputs": [
    {
     "data": {
      "text/plain": [
       "int"
      ]
     },
     "execution_count": 39,
     "metadata": {},
     "output_type": "execute_result"
    }
   ],
   "source": [
    "type(mySecList[1])"
   ]
  },
  {
   "cell_type": "markdown",
   "id": "39a53d76-8508-49c9-be3b-f0d8347b424c",
   "metadata": {},
   "source": [
    "# Caminhos = path"
   ]
  },
  {
   "cell_type": "code",
   "execution_count": 40,
   "id": "90dacca6-bf84-41ff-b61c-599368d79dc1",
   "metadata": {},
   "outputs": [
    {
     "name": "stdout",
     "output_type": "stream",
     "text": [
      "C:\\Users\\dodo_\\Documents\\GitHub\\ENS5173_202401\n"
     ]
    }
   ],
   "source": [
    "path = r\"C:\\Users\\dodo_\\Documents\\GitHub\\ENS5173_202401\"\n",
    "print(path)"
   ]
  },
  {
   "cell_type": "code",
   "execution_count": 41,
   "id": "8a7cbb3f-f5de-4fbf-8c07-29c887222f41",
   "metadata": {},
   "outputs": [
    {
     "name": "stdout",
     "output_type": "stream",
     "text": [
      "C:/Users/dodo_/Documents/GitHub/ENS5173_202401\n"
     ]
    }
   ],
   "source": [
    "path = \"C:/Users/dodo_/Documents/GitHub/ENS5173_202401\"\n",
    "print(path)"
   ]
  },
  {
   "cell_type": "code",
   "execution_count": 42,
   "id": "8c05c60f-c9f4-4fcd-b519-d2134178839e",
   "metadata": {},
   "outputs": [
    {
     "data": {
      "text/plain": [
       "['.git',\n",
       " '.gitignore',\n",
       " '.ipynb_checkpoints',\n",
       " 'Aula01.ipynb',\n",
       " 'inputs',\n",
       " 'pyEnv',\n",
       " 'README.md',\n",
       " 'scripts',\n",
       " 'venv']"
      ]
     },
     "execution_count": 42,
     "metadata": {},
     "output_type": "execute_result"
    }
   ],
   "source": [
    "import os\n",
    "# Listar arquivos na pasta\n",
    "os.listdir(path)"
   ]
  },
  {
   "cell_type": "code",
   "execution_count": 43,
   "id": "d49d059a-686a-4100-accc-738a209289b8",
   "metadata": {},
   "outputs": [
    {
     "data": {
      "text/plain": [
       "'.git'"
      ]
     },
     "execution_count": 43,
     "metadata": {},
     "output_type": "execute_result"
    }
   ],
   "source": [
    "# Selecionar primeiro arquivo listado\n",
    "os.listdir(path)[0]"
   ]
  },
  {
   "cell_type": "code",
   "execution_count": 44,
   "id": "24118682-4e13-4476-8242-a9d98775b483",
   "metadata": {},
   "outputs": [
    {
     "data": {
      "text/plain": [
       "'C:/Users/dodo_/Documents/GitHub/ENS5173_202401/.git'"
      ]
     },
     "execution_count": 44,
     "metadata": {},
     "output_type": "execute_result"
    }
   ],
   "source": [
    "# Concatenando caminhos\n",
    "path+\"/\"+os.listdir(path)[0]"
   ]
  },
  {
   "cell_type": "code",
   "execution_count": 45,
   "id": "9bc81689-9c92-4b31-8f2d-675a65c410f1",
   "metadata": {},
   "outputs": [
    {
     "data": {
      "text/plain": [
       "['COMMIT_EDITMSG',\n",
       " 'config',\n",
       " 'description',\n",
       " 'FETCH_HEAD',\n",
       " 'HEAD',\n",
       " 'hooks',\n",
       " 'index',\n",
       " 'info',\n",
       " 'logs',\n",
       " 'objects',\n",
       " 'packed-refs',\n",
       " 'refs']"
      ]
     },
     "execution_count": 45,
     "metadata": {},
     "output_type": "execute_result"
    }
   ],
   "source": [
    "# Listando caminho concatenado\n",
    "os.listdir(path+\"/\"+os.listdir(path)[0])"
   ]
  },
  {
   "cell_type": "code",
   "execution_count": 46,
   "id": "a2154b6d-19b2-41ce-8eea-5163f443c0e5",
   "metadata": {},
   "outputs": [
    {
     "data": {
      "text/plain": [
       "'C:\\\\Users\\\\dodo_\\\\Documents\\\\GitHub\\\\ENS5173_202401\\\\pyEnv\\\\Scripts'"
      ]
     },
     "execution_count": 46,
     "metadata": {},
     "output_type": "execute_result"
    }
   ],
   "source": [
    "# Diretório que estou trababalhando\n",
    "os.getcwd()"
   ]
  },
  {
   "cell_type": "code",
   "execution_count": null,
   "id": "7a9fc067-ba14-43e1-ac8e-42d5d8511f94",
   "metadata": {},
   "outputs": [],
   "source": [
    "# Mudo de diretório para o caminho \n",
    "os.chdir('C:\\\\Users\\\\dodo_\\\\Documents\\\\GitHub\\\\')"
   ]
  },
  {
   "cell_type": "code",
   "execution_count": 47,
   "id": "7c05638c-4bca-4fcc-9426-0ded36c14b7a",
   "metadata": {},
   "outputs": [
    {
     "data": {
      "text/plain": [
       "'C:\\\\Users\\\\dodo_\\\\Documents\\\\GitHub\\\\ENS5173_202401\\\\pyEnv\\\\Scripts'"
      ]
     },
     "execution_count": 47,
     "metadata": {},
     "output_type": "execute_result"
    }
   ],
   "source": [
    "os.getcwd()"
   ]
  },
  {
   "cell_type": "code",
   "execution_count": 48,
   "id": "3806ccab-98b0-4382-b87b-084533f6fb81",
   "metadata": {},
   "outputs": [
    {
     "name": "stdout",
     "output_type": "stream",
     "text": [
      "Criando diretório C:\\Users\\dodo_\\Documents\\GitHub\\ENS5173_202401\\pyEnv\\Scripts/test\n"
     ]
    }
   ],
   "source": [
    "# Criando diretório\n",
    "new_path = os.getcwd()+'/test'\n",
    "\n",
    "if os.path.isdir(new_path):\n",
    "    print('diretório já existe')\n",
    "else:\n",
    "    print('Criando diretório '+new_path)\n",
    "    os.mkdir(new_path)"
   ]
  },
  {
   "cell_type": "code",
   "execution_count": 49,
   "id": "96c32986-024d-4844-b5ce-fd260f80b67a",
   "metadata": {},
   "outputs": [
    {
     "name": "stdout",
     "output_type": "stream",
     "text": [
      "Criando diretório C:\\Users\\dodo_\\Documents\\GitHub\\ENS5173_202401\\pyEnv\\Scripts/test2\n"
     ]
    }
   ],
   "source": [
    "# Criando diretório\n",
    "new_path = os.getcwd()+'/test2'\n",
    "\n",
    "if os.path.isdir(new_path):\n",
    "    print('diretório já existe')\n",
    "    # Criando um arquivo de texto\n",
    "    with open(new_path+\"/copy.txt\", \"w\") as file:\n",
    "        file.write(\"Your text goes here\")\n",
    "else:\n",
    "    print('Criando diretório '+new_path)\n",
    "    os.mkdir(new_path)\n",
    "    with open(new_path+\"/copy.txt\", \"w\") as file:\n",
    "        file.write(\"Your text goes here\")"
   ]
  },
  {
   "cell_type": "markdown",
   "id": "4fffd084-193e-4281-9048-b58701e149c2",
   "metadata": {},
   "source": [
    "# Numpy arrays e Pandas DataFrames"
   ]
  },
  {
   "cell_type": "code",
   "execution_count": 50,
   "id": "510d7d26-152a-42d4-8874-70fafd284a1a",
   "metadata": {},
   "outputs": [
    {
     "data": {
      "text/plain": [
       "numpy.ndarray"
      ]
     },
     "execution_count": 50,
     "metadata": {},
     "output_type": "execute_result"
    }
   ],
   "source": [
    "import numpy as np\n",
    "# Criando uma variável numpy\n",
    "n = np.array(0)\n",
    "type(n)"
   ]
  },
  {
   "cell_type": "code",
   "execution_count": 51,
   "id": "62550586-a57c-4edd-9318-6110b5d0232f",
   "metadata": {},
   "outputs": [
    {
     "name": "stdout",
     "output_type": "stream",
     "text": [
      "[ 1  2  3 10 20 55]\n"
     ]
    }
   ],
   "source": [
    "# Criando uma variável numpy a partir de uma lista\n",
    "myThirdList=[1,2,3,10,20,55]\n",
    "n = np.array(myThirdList)\n",
    "print(n)"
   ]
  },
  {
   "cell_type": "code",
   "execution_count": 52,
   "id": "64b8b125-8fa7-47c4-a593-ab9bae25ee58",
   "metadata": {},
   "outputs": [
    {
     "name": "stdout",
     "output_type": "stream",
     "text": [
      "[[0.62943858 0.0828187  0.71557774 0.03611695 0.76341502 0.10334714\n",
      "  0.86967139 0.45284454 0.71602396 0.48212474]\n",
      " [0.08349735 0.40097086 0.93616656 0.29032046 0.69814945 0.81658357\n",
      "  0.33865303 0.67728755 0.69493404 0.09370856]\n",
      " [0.36063969 0.43089948 0.01025486 0.9339408  0.60357667 0.21157943\n",
      "  0.11151918 0.48473061 0.25829768 0.52394137]\n",
      " [0.03678322 0.0251025  0.55583248 0.36643152 0.13741143 0.60281331\n",
      "  0.13822654 0.82959914 0.85331232 0.71284758]\n",
      " [0.07685369 0.26493742 0.77060299 0.43938838 0.15773131 0.30229702\n",
      "  0.76641245 0.13493703 0.98878971 0.22805357]\n",
      " [0.8481391  0.56716833 0.09430862 0.43847543 0.74866808 0.98617958\n",
      "  0.48578408 0.11663384 0.31108853 0.94460343]\n",
      " [0.64994027 0.57908686 0.97800025 0.14911254 0.19027074 0.90867621\n",
      "  0.41068296 0.89299382 0.35881791 0.11793802]\n",
      " [0.64686241 0.07592003 0.8358625  0.07689015 0.67200759 0.62867208\n",
      "  0.16627362 0.21144685 0.57077499 0.00608132]\n",
      " [0.35605621 0.48337445 0.5565816  0.17081462 0.94192453 0.03322656\n",
      "  0.73235142 0.94566849 0.96339778 0.04736214]\n",
      " [0.24049306 0.314584   0.32149109 0.51111633 0.98121199 0.53425724\n",
      "  0.72758061 0.34742557 0.7102254  0.37312295]]\n",
      "(10, 10)\n"
     ]
    }
   ],
   "source": [
    "# Criando uma matriz de 10x10 de números aleatórios entre 0 e 1\n",
    "n = np.random.rand(10,10)\n",
    "print(n)\n",
    "# Dimensões da matrix\n",
    "print(n.shape)"
   ]
  },
  {
   "cell_type": "code",
   "execution_count": 53,
   "id": "54cca82b-acae-4a2d-ae5c-5df32c72387f",
   "metadata": {},
   "outputs": [
    {
     "data": {
      "text/plain": [
       "array([0.62943858, 0.0828187 , 0.71557774, 0.03611695, 0.76341502,\n",
       "       0.10334714, 0.86967139, 0.45284454, 0.71602396, 0.48212474])"
      ]
     },
     "execution_count": 53,
     "metadata": {},
     "output_type": "execute_result"
    }
   ],
   "source": [
    "# Acessando valores da matriz\n",
    "n[0,:]"
   ]
  },
  {
   "cell_type": "code",
   "execution_count": 54,
   "id": "3cfa1d0d-be7f-4a32-ba43-1050df8cca36",
   "metadata": {},
   "outputs": [
    {
     "data": {
      "text/plain": [
       "array([0.62943858, 0.08349735, 0.36063969, 0.03678322, 0.07685369,\n",
       "       0.8481391 , 0.64994027, 0.64686241, 0.35605621, 0.24049306])"
      ]
     },
     "execution_count": 54,
     "metadata": {},
     "output_type": "execute_result"
    }
   ],
   "source": [
    "n[:,0]"
   ]
  },
  {
   "cell_type": "code",
   "execution_count": 55,
   "id": "aa35e20a-e0a6-4ddf-a9ae-10a3eef07c85",
   "metadata": {},
   "outputs": [
    {
     "data": {
      "text/plain": [
       "array([[0.0828187 , 0.71557774, 0.03611695, 0.76341502],\n",
       "       [0.40097086, 0.93616656, 0.29032046, 0.69814945],\n",
       "       [0.43089948, 0.01025486, 0.9339408 , 0.60357667],\n",
       "       [0.0251025 , 0.55583248, 0.36643152, 0.13741143],\n",
       "       [0.26493742, 0.77060299, 0.43938838, 0.15773131],\n",
       "       [0.56716833, 0.09430862, 0.43847543, 0.74866808],\n",
       "       [0.57908686, 0.97800025, 0.14911254, 0.19027074],\n",
       "       [0.07592003, 0.8358625 , 0.07689015, 0.67200759],\n",
       "       [0.48337445, 0.5565816 , 0.17081462, 0.94192453],\n",
       "       [0.314584  , 0.32149109, 0.51111633, 0.98121199]])"
      ]
     },
     "execution_count": 55,
     "metadata": {},
     "output_type": "execute_result"
    }
   ],
   "source": [
    "n[:,1:5]"
   ]
  },
  {
   "cell_type": "code",
   "execution_count": 56,
   "id": "e45aaa3b-9eb2-4fc0-a7da-16974bf1fd64",
   "metadata": {},
   "outputs": [
    {
     "data": {
      "text/plain": [
       "array([0.0828187 , 0.71557774, 0.03611695, 0.76341502])"
      ]
     },
     "execution_count": 56,
     "metadata": {},
     "output_type": "execute_result"
    }
   ],
   "source": [
    "n[0,1:5]"
   ]
  },
  {
   "cell_type": "code",
   "execution_count": 57,
   "id": "40745e01-a0ca-4e38-b8c9-9ada63f8da98",
   "metadata": {},
   "outputs": [
    {
     "data": {
      "text/plain": [
       "0.4821247433947349"
      ]
     },
     "execution_count": 57,
     "metadata": {},
     "output_type": "execute_result"
    }
   ],
   "source": [
    "n[0,-1]"
   ]
  },
  {
   "cell_type": "code",
   "execution_count": 58,
   "id": "20c0535b-7b4a-4d49-995b-d5c172bc26b1",
   "metadata": {},
   "outputs": [
    {
     "data": {
      "text/plain": [
       "array([0.76341502, 0.10334714, 0.86967139, 0.45284454, 0.71602396])"
      ]
     },
     "execution_count": 58,
     "metadata": {},
     "output_type": "execute_result"
    }
   ],
   "source": [
    "n[0,4:-1]"
   ]
  },
  {
   "cell_type": "code",
   "execution_count": 59,
   "id": "29296abb-0401-4134-aa9a-2e9751b47a10",
   "metadata": {},
   "outputs": [
    {
     "data": {
      "text/plain": [
       "array([0.76341502, 0.10334714, 0.86967139, 0.45284454, 0.71602396,\n",
       "       0.48212474])"
      ]
     },
     "execution_count": 59,
     "metadata": {},
     "output_type": "execute_result"
    }
   ],
   "source": [
    "n[0,4:]"
   ]
  },
  {
   "cell_type": "code",
   "execution_count": 60,
   "id": "8c142d0c-2f59-4a82-8a8d-da54faf6eca9",
   "metadata": {},
   "outputs": [
    {
     "name": "stdout",
     "output_type": "stream",
     "text": [
      "[[ 1.14651092 -0.88166349  1.27477288 -1.71155499  1.33948445 -0.66022374\n",
      "   1.46979806  0.81723151  1.27539627  0.87988552]\n",
      " [-0.87350244  0.69557139  1.54347605  0.37266798  1.25011583  1.40681189\n",
      "   0.52665871  1.21977855  1.24549956 -0.75812778]\n",
      " [ 0.589562    0.76755746 -2.97056558  1.54109568  1.10455572  0.0562831\n",
      "  -0.58412082  0.88527592  0.25579535  0.96306243]\n",
      " [-1.69327548 -2.07534988  1.02214959  0.6054943  -0.37533779  1.10329018\n",
      "  -0.36942341  1.42262526  1.45080826  1.27095026]\n",
      " [-0.95641382  0.28117629  1.34885595  0.78706635 -0.23742434  0.41309268\n",
      "   1.34340311 -0.39350912  1.59816431  0.13126318]\n",
      " [ 1.44472729  1.04233877 -0.75174479  0.78498641  1.31997837  1.5955211\n",
      "   0.88744688 -0.53927792  0.44176015  1.55244782]\n",
      " [ 1.1785631   1.06313512  1.58719256 -0.29361606 -0.04986936  1.51367145\n",
      "   0.71950417  1.4962623   0.58449767 -0.52815814]\n",
      " [ 1.17381625 -0.96863679  1.43014675 -0.9559396   1.21195227  1.14529242\n",
      "  -0.18468265  0.05565628  1.04867769 -3.49309578]\n",
      " [ 0.57677124  0.88247424  1.02349642 -0.15773852  1.54960779 -1.79496785\n",
      "   1.29794311  1.5535747   1.57214903 -1.44049429]\n",
      " [ 0.18437387  0.45293376  0.47465245  0.93827985  1.59047117  0.98256008\n",
      "   1.29140743  0.5522331   1.26726502  0.62359063]]\n"
     ]
    }
   ],
   "source": [
    "an = np.log(n*5)\n",
    "print(an)"
   ]
  },
  {
   "cell_type": "code",
   "execution_count": null,
   "id": "59439563-7557-4c2d-8477-3ead20a6917d",
   "metadata": {},
   "outputs": [],
   "source": []
  }
 ],
 "metadata": {
  "kernelspec": {
   "display_name": "Python 3 (ipykernel)",
   "language": "python",
   "name": "python3"
  },
  "language_info": {
   "codemirror_mode": {
    "name": "ipython",
    "version": 3
   },
   "file_extension": ".py",
   "mimetype": "text/x-python",
   "name": "python",
   "nbconvert_exporter": "python",
   "pygments_lexer": "ipython3",
   "version": "3.11.8"
  }
 },
 "nbformat": 4,
 "nbformat_minor": 5
}
